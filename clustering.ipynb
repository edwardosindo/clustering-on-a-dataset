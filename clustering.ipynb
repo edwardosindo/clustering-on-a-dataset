{
 "cells": [
  {
   "cell_type": "code",
   "execution_count": 2,
   "id": "b5a6a19e",
   "metadata": {},
   "outputs": [
    {
     "ename": "FileNotFoundError",
     "evalue": "[Errno 2] No such file or directory: 'documents.p'",
     "output_type": "error",
     "traceback": [
      "\u001b[0;31m---------------------------------------------------------------------------\u001b[0m",
      "\u001b[0;31mFileNotFoundError\u001b[0m                         Traceback (most recent call last)",
      "Input \u001b[0;32mIn [2]\u001b[0m, in \u001b[0;36m<cell line: 7>\u001b[0;34m()\u001b[0m\n\u001b[1;32m      4\u001b[0m \u001b[38;5;28;01mimport\u001b[39;00m \u001b[38;5;21;01mpickle\u001b[39;00m\n\u001b[1;32m      6\u001b[0m \u001b[38;5;66;03m# You can access the 'data' folder by uncommenting the following command\u001b[39;00m\n\u001b[0;32m----> 7\u001b[0m data \u001b[38;5;241m=\u001b[39m pickle\u001b[38;5;241m.\u001b[39mload(\u001b[38;5;28;43mopen\u001b[39;49m\u001b[43m(\u001b[49m\u001b[38;5;124;43m\"\u001b[39;49m\u001b[38;5;124;43mdocuments.p\u001b[39;49m\u001b[38;5;124;43m\"\u001b[39;49m\u001b[43m,\u001b[49m\u001b[43m \u001b[49m\u001b[38;5;124;43m\"\u001b[39;49m\u001b[38;5;124;43mrb\u001b[39;49m\u001b[38;5;124;43m\"\u001b[39;49m\u001b[43m)\u001b[49m)\n\u001b[1;32m      8\u001b[0m data_subset \u001b[38;5;241m=\u001b[39m pickle\u001b[38;5;241m.\u001b[39mload(\u001b[38;5;28mopen\u001b[39m(\u001b[38;5;124m\"\u001b[39m\u001b[38;5;124msubset_documents.p\u001b[39m\u001b[38;5;124m\"\u001b[39m, \u001b[38;5;124m\"\u001b[39m\u001b[38;5;124mrb\u001b[39m\u001b[38;5;124m\"\u001b[39m))\n\u001b[1;32m     10\u001b[0m \u001b[38;5;28;01mdef\u001b[39;00m \u001b[38;5;21mcluster_articles\u001b[39m(data):\n\u001b[1;32m     11\u001b[0m     \n\u001b[1;32m     12\u001b[0m     \u001b[38;5;66;03m# Vector from the dataset\u001b[39;00m\n",
      "\u001b[0;31mFileNotFoundError\u001b[0m: [Errno 2] No such file or directory: 'documents.p'"
     ]
    }
   ],
   "source": [
    "from sklearn.cluster import KMeans\n",
    "from sklearn.decomposition import PCA\n",
    "import sklearn.metrics.cluster as metrics\n",
    "import pickle\n",
    "\n",
    "# You can access the 'data' folder by uncommenting the following command\n",
    "data = pickle.load(open(\"documents.p\", \"rb\"))\n",
    "data_subset = pickle.load(open(\"subset_documents.p\", \"rb\"))\n",
    "\n",
    "def cluster_articles(data):\n",
    "    \n",
    "    # Vector from the dataset\n",
    "    d_v = data[\"vectors\"]\n",
    "    \n",
    "    # Creating the Kmeans model\n",
    "    kmeans = KMeans(n_clusters=10, random_state=2, tol=0.05, max_iter=50)\n",
    "    \n",
    "    # Clustering the vector\n",
    "    km_v_c = kmeans.fit(d_v)\n",
    "    \n",
    "    cs_100 = metrics.completeness_score(data['group'], km_v_c.labels_)\n",
    "    vms_100 = metrics.v_measure_score(data['group'], km_v_c.labels_)\n",
    "    \n",
    "    # Reducing the dimensionallity using PCA\n",
    "    pca = PCA(n_components=10, random_state = 2)\n",
    "    pca_reduction = pca.fit_transform(d_v)\n",
    "    \n",
    "    # Clustering the reduced vector\n",
    "    km_r_v_c = kmeans.fit(pca_reduction)\n",
    "    \n",
    "    cs_10 = metrics.completeness_score(data['group'], km_r_v_c.labels_)\n",
    "    vms_10 = metrics.v_measure_score(data['group'], km_r_v_c.labels_)\n",
    "    \n",
    "    result = {\n",
    "        \"nobs_100\": km_v_c.labels_,\n",
    "        \"nobs_10\": km_r_v_c.labels_,\n",
    "        \"pca_explained\": pca.explained_variance_ratio_[0],\n",
    "        \"cs_100\": cs_100,\n",
    "        \"cs_10\": cs_10,\n",
    "        \"vms_100\": vms_100,\n",
    "        \"vms_10\": vms_10,\n",
    "    }\n",
    "    \n",
    "    return result"
   ]
  },
  {
   "cell_type": "code",
   "execution_count": null,
   "id": "9a6866e0",
   "metadata": {},
   "outputs": [],
   "source": []
  }
 ],
 "metadata": {
  "kernelspec": {
   "display_name": "Python 3 (ipykernel)",
   "language": "python",
   "name": "python3"
  },
  "language_info": {
   "codemirror_mode": {
    "name": "ipython",
    "version": 3
   },
   "file_extension": ".py",
   "mimetype": "text/x-python",
   "name": "python",
   "nbconvert_exporter": "python",
   "pygments_lexer": "ipython3",
   "version": "3.9.12"
  }
 },
 "nbformat": 4,
 "nbformat_minor": 5
}
